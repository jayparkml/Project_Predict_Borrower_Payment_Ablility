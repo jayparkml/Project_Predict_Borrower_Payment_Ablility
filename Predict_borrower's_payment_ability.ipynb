{
 "cells": [
  {
   "cell_type": "markdown",
   "metadata": {},
   "source": [
    "# Build a machine learning model that predict borrower's payment ability in Lending Club\n",
    "\n",
    "In this project, we will focus on credit modelling, a well known data science problem that focuses on modeling a borrower's credit risk. Credit has played a key role in the economy for centuries and some form of credit has existed since the beginning of commerce. We'll be working with financial lending data from Lending Club. Lending Club is a marketplace for personal loans that matches borrowers who are seeking a loan with investors looking to lend money and make a return. You can read more about their marketplace [here](https://www.lendingclub.com/company/about-us)."
   ]
  },
  {
   "cell_type": "markdown",
   "metadata": {},
   "source": [
    "Each borrower fills out a comprehensive application, providing their past financial history, the reason for the loan, and more. Lending Club evaluates each borrower's credit score using past historical data (and their own data science process!) and assign an interest rate to the borrower. The interest rate is the percent in addition to the requested loan amount the borrower has to pay back."
   ]
  },
  {
   "cell_type": "markdown",
   "metadata": {},
   "source": [
    "A higher interest rate means that the borrower is riskier and more unlikely to pay back the loan while a lower interest rate means that the borrower has a good credit history is more likely to pay back the loan. The interest rates range from 5.32% all the way to 30.99% and each borrower is given a grade according to the interest rate they were assigned. If the borrower accepts the interest rate, then the loan is listed on the Lending Club marketplace.\n",
    "\n",
    "Investors are primarily interested in receiving a return on their investments. Approved loans are listed on the Lending Club website, where qualified investors can browse recently approved loans, the borrower's credit score, the purpose for the loan, and other information from the application. Once they're ready to back a loan, they select the amount of money they want to fund. Once a loan's requested amount is fully funded, the borrower receives the money they requested minus the origination fee that Lending Club charges.\n",
    "\n",
    "The borrower then makes monthly payments back to Lending Club either over 36 months or over 60 months. Lending Club redistributes these payments to the investors. This means that investors don't have to wait until the full amount is paid off before they see a return in money. If a loan is fully paid off on time, the investors make a return which corresponds to the interest rate the borrower had to pay in addition to the requested amount. Many loans aren't completely paid off on time, however, and some borrowers default on the loan."
   ]
  },
  {
   "cell_type": "markdown",
   "metadata": {},
   "source": [
    "![img](http://cdn.biblemoneymatters.com/wp-content/uploads/2009/08/how-social-lending-works.jpg)"
   ]
  },
  {
   "cell_type": "markdown",
   "metadata": {},
   "source": [
    "Most investors use a portfolio strategy to invest small amounts in many loans, with healthy mixes of low, medium, and interest loans. In this course, we'll focus on the mindset of a conservative investor who only wants to invest in the loans that have a good chance of being paid off on time. To do that, we'll need to first understand the features in the dataset and then experiment with building machine learning models that reliably predict if a loan will be paid off or not."
   ]
  },
  {
   "cell_type": "markdown",
   "metadata": {},
   "source": [
    "Lending Club releases data for all of the approved and declined loan applications periodically on their website. You can select a few different year ranges to download the datasets (in CSV format) for both approved and declined loans."
   ]
  },
  {
   "cell_type": "markdown",
   "metadata": {},
   "source": [
    "The approved loans datasets contain information on current loans, completed loans, and defaulted loans. Let's now define the problem statement for this machine learning project:\n",
    "\n",
    "- Can we build a machine learning model that can accurately predict if a borrower will pay off their loan on time or not?\n",
    "\n",
    "Before we can start doing machine learning, we need to define what features we want to use and which column represents the target column we want to predict. Let's start by reading in the dataset and exploring it."
   ]
  },
  {
   "cell_type": "markdown",
   "metadata": {},
   "source": [
    "## Data Cleaning\n",
    "\n",
    "In this project, we'll focus on approved loans data from 2007 to 2011, since a good number of the loans have already finished. In the datasets for later years, many of the loans are current and still being paid off."
   ]
  },
  {
   "cell_type": "code",
   "execution_count": 1,
   "metadata": {},
   "outputs": [
    {
     "name": "stderr",
     "output_type": "stream",
     "text": [
      "C:\\Users\\parks\\anaconda3\\lib\\site-packages\\IPython\\core\\interactiveshell.py:3071: DtypeWarning: Columns (0) have mixed types.Specify dtype option on import or set low_memory=False.\n",
      "  has_raised = await self.run_ast_nodes(code_ast.body, cell_name,\n"
     ]
    }
   ],
   "source": [
    "#read in the data\n",
    "import pandas as pd\n",
    "loans_2007 = pd.read_csv(\"loans_2007.csv\").copy()"
   ]
  },
  {
   "cell_type": "code",
   "execution_count": 2,
   "metadata": {},
   "outputs": [
    {
     "data": {
      "text/html": [
       "<div>\n",
       "<style scoped>\n",
       "    .dataframe tbody tr th:only-of-type {\n",
       "        vertical-align: middle;\n",
       "    }\n",
       "\n",
       "    .dataframe tbody tr th {\n",
       "        vertical-align: top;\n",
       "    }\n",
       "\n",
       "    .dataframe thead th {\n",
       "        text-align: right;\n",
       "    }\n",
       "</style>\n",
       "<table border=\"1\" class=\"dataframe\">\n",
       "  <thead>\n",
       "    <tr style=\"text-align: right;\">\n",
       "      <th></th>\n",
       "      <th>id</th>\n",
       "      <th>member_id</th>\n",
       "      <th>loan_amnt</th>\n",
       "      <th>funded_amnt</th>\n",
       "      <th>funded_amnt_inv</th>\n",
       "      <th>term</th>\n",
       "      <th>int_rate</th>\n",
       "      <th>installment</th>\n",
       "      <th>grade</th>\n",
       "      <th>sub_grade</th>\n",
       "      <th>...</th>\n",
       "      <th>last_pymnt_amnt</th>\n",
       "      <th>last_credit_pull_d</th>\n",
       "      <th>collections_12_mths_ex_med</th>\n",
       "      <th>policy_code</th>\n",
       "      <th>application_type</th>\n",
       "      <th>acc_now_delinq</th>\n",
       "      <th>chargeoff_within_12_mths</th>\n",
       "      <th>delinq_amnt</th>\n",
       "      <th>pub_rec_bankruptcies</th>\n",
       "      <th>tax_liens</th>\n",
       "    </tr>\n",
       "  </thead>\n",
       "  <tbody>\n",
       "    <tr>\n",
       "      <th>0</th>\n",
       "      <td>1077501</td>\n",
       "      <td>1296599.0</td>\n",
       "      <td>5000.0</td>\n",
       "      <td>5000.0</td>\n",
       "      <td>4975.0</td>\n",
       "      <td>36 months</td>\n",
       "      <td>10.65%</td>\n",
       "      <td>162.87</td>\n",
       "      <td>B</td>\n",
       "      <td>B2</td>\n",
       "      <td>...</td>\n",
       "      <td>171.62</td>\n",
       "      <td>Jun-2016</td>\n",
       "      <td>0.0</td>\n",
       "      <td>1.0</td>\n",
       "      <td>INDIVIDUAL</td>\n",
       "      <td>0.0</td>\n",
       "      <td>0.0</td>\n",
       "      <td>0.0</td>\n",
       "      <td>0.0</td>\n",
       "      <td>0.0</td>\n",
       "    </tr>\n",
       "    <tr>\n",
       "      <th>1</th>\n",
       "      <td>1077430</td>\n",
       "      <td>1314167.0</td>\n",
       "      <td>2500.0</td>\n",
       "      <td>2500.0</td>\n",
       "      <td>2500.0</td>\n",
       "      <td>60 months</td>\n",
       "      <td>15.27%</td>\n",
       "      <td>59.83</td>\n",
       "      <td>C</td>\n",
       "      <td>C4</td>\n",
       "      <td>...</td>\n",
       "      <td>119.66</td>\n",
       "      <td>Sep-2013</td>\n",
       "      <td>0.0</td>\n",
       "      <td>1.0</td>\n",
       "      <td>INDIVIDUAL</td>\n",
       "      <td>0.0</td>\n",
       "      <td>0.0</td>\n",
       "      <td>0.0</td>\n",
       "      <td>0.0</td>\n",
       "      <td>0.0</td>\n",
       "    </tr>\n",
       "    <tr>\n",
       "      <th>2</th>\n",
       "      <td>1077175</td>\n",
       "      <td>1313524.0</td>\n",
       "      <td>2400.0</td>\n",
       "      <td>2400.0</td>\n",
       "      <td>2400.0</td>\n",
       "      <td>36 months</td>\n",
       "      <td>15.96%</td>\n",
       "      <td>84.33</td>\n",
       "      <td>C</td>\n",
       "      <td>C5</td>\n",
       "      <td>...</td>\n",
       "      <td>649.91</td>\n",
       "      <td>Jun-2016</td>\n",
       "      <td>0.0</td>\n",
       "      <td>1.0</td>\n",
       "      <td>INDIVIDUAL</td>\n",
       "      <td>0.0</td>\n",
       "      <td>0.0</td>\n",
       "      <td>0.0</td>\n",
       "      <td>0.0</td>\n",
       "      <td>0.0</td>\n",
       "    </tr>\n",
       "    <tr>\n",
       "      <th>3</th>\n",
       "      <td>1076863</td>\n",
       "      <td>1277178.0</td>\n",
       "      <td>10000.0</td>\n",
       "      <td>10000.0</td>\n",
       "      <td>10000.0</td>\n",
       "      <td>36 months</td>\n",
       "      <td>13.49%</td>\n",
       "      <td>339.31</td>\n",
       "      <td>C</td>\n",
       "      <td>C1</td>\n",
       "      <td>...</td>\n",
       "      <td>357.48</td>\n",
       "      <td>Apr-2016</td>\n",
       "      <td>0.0</td>\n",
       "      <td>1.0</td>\n",
       "      <td>INDIVIDUAL</td>\n",
       "      <td>0.0</td>\n",
       "      <td>0.0</td>\n",
       "      <td>0.0</td>\n",
       "      <td>0.0</td>\n",
       "      <td>0.0</td>\n",
       "    </tr>\n",
       "    <tr>\n",
       "      <th>4</th>\n",
       "      <td>1075358</td>\n",
       "      <td>1311748.0</td>\n",
       "      <td>3000.0</td>\n",
       "      <td>3000.0</td>\n",
       "      <td>3000.0</td>\n",
       "      <td>60 months</td>\n",
       "      <td>12.69%</td>\n",
       "      <td>67.79</td>\n",
       "      <td>B</td>\n",
       "      <td>B5</td>\n",
       "      <td>...</td>\n",
       "      <td>67.79</td>\n",
       "      <td>Jun-2016</td>\n",
       "      <td>0.0</td>\n",
       "      <td>1.0</td>\n",
       "      <td>INDIVIDUAL</td>\n",
       "      <td>0.0</td>\n",
       "      <td>0.0</td>\n",
       "      <td>0.0</td>\n",
       "      <td>0.0</td>\n",
       "      <td>0.0</td>\n",
       "    </tr>\n",
       "  </tbody>\n",
       "</table>\n",
       "<p>5 rows × 52 columns</p>\n",
       "</div>"
      ],
      "text/plain": [
       "        id  member_id  loan_amnt  funded_amnt  funded_amnt_inv        term  \\\n",
       "0  1077501  1296599.0     5000.0       5000.0           4975.0   36 months   \n",
       "1  1077430  1314167.0     2500.0       2500.0           2500.0   60 months   \n",
       "2  1077175  1313524.0     2400.0       2400.0           2400.0   36 months   \n",
       "3  1076863  1277178.0    10000.0      10000.0          10000.0   36 months   \n",
       "4  1075358  1311748.0     3000.0       3000.0           3000.0   60 months   \n",
       "\n",
       "  int_rate  installment grade sub_grade  ... last_pymnt_amnt  \\\n",
       "0   10.65%       162.87     B        B2  ...          171.62   \n",
       "1   15.27%        59.83     C        C4  ...          119.66   \n",
       "2   15.96%        84.33     C        C5  ...          649.91   \n",
       "3   13.49%       339.31     C        C1  ...          357.48   \n",
       "4   12.69%        67.79     B        B5  ...           67.79   \n",
       "\n",
       "  last_credit_pull_d collections_12_mths_ex_med  policy_code application_type  \\\n",
       "0           Jun-2016                        0.0          1.0       INDIVIDUAL   \n",
       "1           Sep-2013                        0.0          1.0       INDIVIDUAL   \n",
       "2           Jun-2016                        0.0          1.0       INDIVIDUAL   \n",
       "3           Apr-2016                        0.0          1.0       INDIVIDUAL   \n",
       "4           Jun-2016                        0.0          1.0       INDIVIDUAL   \n",
       "\n",
       "  acc_now_delinq chargeoff_within_12_mths delinq_amnt pub_rec_bankruptcies  \\\n",
       "0            0.0                      0.0         0.0                  0.0   \n",
       "1            0.0                      0.0         0.0                  0.0   \n",
       "2            0.0                      0.0         0.0                  0.0   \n",
       "3            0.0                      0.0         0.0                  0.0   \n",
       "4            0.0                      0.0         0.0                  0.0   \n",
       "\n",
       "  tax_liens  \n",
       "0       0.0  \n",
       "1       0.0  \n",
       "2       0.0  \n",
       "3       0.0  \n",
       "4       0.0  \n",
       "\n",
       "[5 rows x 52 columns]"
      ]
     },
     "execution_count": 2,
     "metadata": {},
     "output_type": "execute_result"
    }
   ],
   "source": [
    "loans_2007.head()"
   ]
  },
  {
   "cell_type": "code",
   "execution_count": 3,
   "metadata": {},
   "outputs": [
    {
     "data": {
      "text/plain": [
       "(42538, 52)"
      ]
     },
     "execution_count": 3,
     "metadata": {},
     "output_type": "execute_result"
    }
   ],
   "source": [
    "loans_2007.shape"
   ]
  },
  {
   "cell_type": "markdown",
   "metadata": {},
   "source": [
    "Our data has 42538 rows and 52 columns. \n",
    "\n",
    "The Dataframe contains many columns and can be cumbersome to try to explore all at once. Let's break up the columns into 3 groups of 18 columns and use the [data dictionary](https://docs.google.com/spreadsheets/d/191B2yJ4H1ZPXq0_ByhUgWMFZOYem5jFz0Y3by_7YBY4/edit#gid=2081333097) to become familiar with what each column represents. As we understand each feature, we want to pay attention to any features that:\n",
    "\n",
    "- leak information from the future (after the loan has already been funded)\n",
    "- don't affect a borrower's ability to pay back a loan (e.g. a randomly generated ID value by Lending Club)\n",
    "- formatted poorly and need to be cleaned up\n",
    "- require more data or a lot of processing to turn into a useful feature\n",
    "- contain redundant information"
   ]
  },
  {
   "cell_type": "markdown",
   "metadata": {},
   "source": [
    "We need to especially pay attention to data leakage, since it can cause our model to overfit. This is because the model would be using data about the target column that wouldn't be available when we're using the model on future loans."
   ]
  },
  {
   "cell_type": "markdown",
   "metadata": {},
   "source": [
    "Let's focus on just columns that we need to remove from consideration. Then, we can circle back and further dissect the columns we decided to keep."
   ]
  },
  {
   "cell_type": "markdown",
   "metadata": {},
   "source": [
    "Let's look at first 18 columns:\n",
    "<table>\n",
    "<thead>\n",
    "  <tr>\n",
    "    <th>name</th>\n",
    "    <th>dtype</th>\n",
    "    <th>first value</th>\n",
    "    <th>description</th>\n",
    "  </tr>\n",
    "</thead>\n",
    "<tbody>\n",
    "  <tr>\n",
    "    <td>id</td>\n",
    "    <td>object</td>\n",
    "    <td>1077501</td>\n",
    "    <td>A unique LC assigned ID for the loan listing.</td>\n",
    "  </tr>\n",
    "  <tr>\n",
    "    <td>member_id</td>\n",
    "    <td>float64</td>\n",
    "    <td>1.2966e+06</td>\n",
    "    <td>A unique LC assigned Id for the borrower member.</td>\n",
    "  </tr>\n",
    "  <tr>\n",
    "    <td>loan_amnt</td>\n",
    "    <td>float64</td>\n",
    "    <td>5000</td>\n",
    "    <td>The listed amount of the loan applied for by the borrower.</td>\n",
    "  </tr>\n",
    "  <tr>\n",
    "    <td>funded_amnt</td>\n",
    "    <td>float64</td>\n",
    "    <td>5000</td>\n",
    "    <td>The total amount committed to that loan at that point in time.</td>\n",
    "  </tr>\n",
    "  <tr>\n",
    "    <td>funded_amnt_inv</td>\n",
    "    <td>float64</td>\n",
    "    <td>49750</td>\n",
    "    <td>The total amount committed by investors for that loan at that point in time.</td>\n",
    "  </tr>\n",
    "  <tr>\n",
    "    <td>term</td>\n",
    "    <td>object</td>\n",
    "    <td>36 months</td>\n",
    "    <td>The number of payments on the loan. Values are in months and can be either 36 or 60.</td>\n",
    "  </tr>\n",
    "  <tr>\n",
    "    <td>int_rate</td>\n",
    "    <td>object</td>\n",
    "    <td>10.65%</td>\n",
    "    <td>Interest Rate on the loan</td>\n",
    "  </tr>\n",
    "  <tr>\n",
    "    <td>installment</td>\n",
    "    <td>float64</td>\n",
    "    <td>162.87</td>\n",
    "    <td>The monthly payment owed by the borrower if the loan originates.</td>\n",
    "  </tr>\n",
    "  <tr>\n",
    "    <td>grade</td>\n",
    "    <td>object</td>\n",
    "    <td>B</td>\n",
    "    <td>LC assigned loan grade</td>\n",
    "  </tr>\n",
    "  <tr>\n",
    "    <td>sub_grade</td>\n",
    "    <td>object</td>\n",
    "    <td>B2</td>\n",
    "    <td>LC assigned loan subgrade</td>\n",
    "  </tr>\n",
    "  <tr>\n",
    "    <td>emp_title</td>\n",
    "    <td>object</td>\n",
    "    <td>NaN</td>\n",
    "    <td>The job title supplied by the Borrower when applying for the loan.</td>\n",
    "  </tr>\n",
    "  <tr>\n",
    "    <td>emp_length</td>\n",
    "    <td>object</td>\n",
    "    <td>10+ years</td>\n",
    "    <td>Employment length in years. Possible values are between 0 and 10 where 0 means less than one year and 10 means ten or more years.</td>\n",
    "  </tr>\n",
    "  <tr>\n",
    "    <td>home_ownership</td>\n",
    "    <td>object</td>\n",
    "    <td>RENT</td>\n",
    "    <td>The home ownership status provided by the borrower during registration. Our values are: RENT, OWN, MORTGAGE, OTHER.</td>\n",
    "  </tr>\n",
    "  <tr>\n",
    "    <td>annual_inc</td>\n",
    "    <td>float64</td>\n",
    "    <td>24000</td>\n",
    "    <td>The self-reported annual income provided by the borrower during registration.</td>\n",
    "  </tr>\n",
    "  <tr>\n",
    "    <td>verification_status</td>\n",
    "    <td>object</td>\n",
    "    <td>Verified</td>\n",
    "    <td>Indicates if income was verified by LC, not verified, or if the income source was verified</td>\n",
    "  </tr>\n",
    "  <tr>\n",
    "    <td>issue_d</td>\n",
    "    <td>object</td>\n",
    "    <td>Dec-2011</td>\n",
    "    <td>The month which the loan was funded</td>\n",
    "  </tr>\n",
    "  <tr>\n",
    "    <td>loan_status</td>\n",
    "    <td>object</td>\n",
    "    <td>Charged Off</td>\n",
    "    <td>Current status of the loan</td>\n",
    "  </tr>\n",
    "  <tr>\n",
    "    <td>pymnt_plan</td>\n",
    "    <td>object</td>\n",
    "    <td>n</td>\n",
    "    <td>Indicates if a payment plan has been put in place for the loan</td>\n",
    "  </tr>\n",
    "  <tr>\n",
    "    <td>purpose</td>\n",
    "    <td>object</td>\n",
    "    <td>car</td>\n",
    "    <td>A category provided by the borrower for the loan request.</td>\n",
    "  </tr>\n",
    "</tbody>\n",
    "</table>\n",
    "\n",
    "After analyzing each column, we can conclude that the following features need to be removed:\n",
    "\n",
    "- id: randomly generated field by Lending Club for unique identification purposes only\n",
    "- member_id: also a randomly generated field by Lending Club for unique identification purposes only\n",
    "- funded_amnt: leaks data from the future (after the loan is already started to be funded)\n",
    "- funded_amnt_inv: also leaks data from the future (after the loan is already started to be funded)\n",
    "- grade: contains redundant information as the interest rate column (int_rate)\n",
    "- sub_grade: also contains redundant information as the interest rate column (int_rate)\n",
    "- emp_title: requires other data and a lot of processing to potentially be useful\n",
    "- issue_d: leaks data from the future (after the loan is already completely funded)\n",
    "\n",
    "Recall that Lending Club assigns a grade and a sub-grade based on the borrower's interest rate. While the **grade** and **sub_grade** values are categorical, the **int_rate** column contains continuous values, which are better suited for machine learning."
   ]
  },
  {
   "cell_type": "code",
   "execution_count": 4,
   "metadata": {},
   "outputs": [
    {
     "data": {
      "text/plain": [
       "44"
      ]
     },
     "execution_count": 4,
     "metadata": {},
     "output_type": "execute_result"
    }
   ],
   "source": [
    "#Drop the columns listed above\n",
    "drop_columns=[\"id\",\"member_id\",\"funded_amnt\",\"funded_amnt_inv\",\n",
    "              \"grade\",\"sub_grade\",\"emp_title\",\"issue_d\"]\n",
    "loans_2007=loans_2007.drop(drop_columns, axis=1)\n",
    "loans_2007.shape[1]"
   ]
  },
  {
   "cell_type": "markdown",
   "metadata": {},
   "source": [
    "Let's now look at the next 18 columns:\n",
    "<table>\n",
    "<thead>\n",
    "  <tr>\n",
    "    <th>name</th>\n",
    "    <th>dtype</th>\n",
    "    <th>first value</th>\n",
    "    <th>description</th>\n",
    "  </tr>\n",
    "</thead>\n",
    "<tbody>\n",
    "  <tr>\n",
    "    <td>title</td>\n",
    "    <td>object</td>\n",
    "    <td>Computer</td>\n",
    "    <td>The loan title provided by the borrower</td>\n",
    "  </tr>\n",
    "  <tr>\n",
    "    <td>zip_code</td>\n",
    "    <td>object</td>\n",
    "    <td>860xx</td>\n",
    "    <td>The first 3 numbers of the zip code provided by the borrower in the loan application.</td>\n",
    "  </tr>\n",
    "  <tr>\n",
    "    <td>addr_state</td>\n",
    "    <td>object</td>\n",
    "    <td>AZ</td>\n",
    "    <td>The state provided by the borrower in the loan application</td>\n",
    "  </tr>\n",
    "  <tr>\n",
    "    <td>dti</td>\n",
    "    <td>float64</td>\n",
    "    <td>27.65</td>\n",
    "    <td>A ratio calculated using the borrower’s total monthly debt payments on the total debt obligations, excluding mortgage and the requested LC loan, divided by the borrower’s self-reported monthly income.</td>\n",
    "  </tr>\n",
    "  <tr>\n",
    "    <td>delinq_2yrs</td>\n",
    "    <td>float64</td>\n",
    "    <td>0</td>\n",
    "    <td>The number of 30+ days past-due incidences of delinquency in the borrower's credit file for the past 2 years</td>\n",
    "  </tr>\n",
    "  <tr>\n",
    "    <td>earliest_cr_line</td>\n",
    "    <td>object</td>\n",
    "    <td>Jan-1985</td>\n",
    "    <td>The month the borrower's earliest reported credit line was opened</td>\n",
    "  </tr>\n",
    "  <tr>\n",
    "    <td>inq_last_6mths</td>\n",
    "    <td>float64</td>\n",
    "    <td>1</td>\n",
    "    <td>The number of inquiries in past 6 months (excluding auto and mortgage inquiries)</td>\n",
    "  </tr>\n",
    "  <tr>\n",
    "    <td>open_acc</td>\n",
    "    <td>float64</td>\n",
    "    <td>3</td>\n",
    "    <td>The number of open credit lines in the borrower's credit file.</td>\n",
    "  </tr>\n",
    "  <tr>\n",
    "    <td>pub_rec</td>\n",
    "    <td>float64</td>\n",
    "    <td>0</td>\n",
    "    <td>Number of derogatory public records</td>\n",
    "  </tr>\n",
    "  <tr>\n",
    "    <td>revol_bal</td>\n",
    "    <td>float64</td>\n",
    "    <td>13648</td>\n",
    "    <td>Total credit revolving balance</td>\n",
    "  </tr>\n",
    "  <tr>\n",
    "    <td>revol_util</td>\n",
    "    <td>object</td>\n",
    "    <td>83.7%</td>\n",
    "    <td>Revolving line utilization rate, or the amount of credit the borrower is using relative to all available revolving credit.</td>\n",
    "  </tr>\n",
    "  <tr>\n",
    "    <td>total_acc</td>\n",
    "    <td>float64</td>\n",
    "    <td>9</td>\n",
    "    <td>The total number of credit lines currently in the borrower's credit file</td>\n",
    "  </tr>\n",
    "  <tr>\n",
    "    <td>initial_list_status</td>\n",
    "    <td>object</td>\n",
    "    <td>f</td>\n",
    "    <td>The initial listing status of the loan. Possible values are – W, F</td>\n",
    "  </tr>\n",
    "  <tr>\n",
    "    <td>out_prncp</td>\n",
    "    <td>float64</td>\n",
    "    <td>0</td>\n",
    "    <td>Remaining outstanding principal for total amount funded</td>\n",
    "  </tr>\n",
    "  <tr>\n",
    "    <td>out_prncp_inv</td>\n",
    "    <td>float64</td>\n",
    "    <td>0</td>\n",
    "    <td>Remaining outstanding principal for portion of total amount funded by investors</td>\n",
    "  </tr>\n",
    "  <tr>\n",
    "    <td>total_pymnt</td>\n",
    "    <td>float64</td>\n",
    "    <td>5863.16</td>\n",
    "    <td>Payments received to date for total amount funded</td>\n",
    "  </tr>\n",
    "  <tr>\n",
    "    <td>total_pymnt_inv</td>\n",
    "    <td>float64</td>\n",
    "    <td>5833.84</td>\n",
    "    <td>Payments received to date for portion of total amount funded by investors</td>\n",
    "  </tr>\n",
    "  <tr>\n",
    "    <td>total_rec_prncp</td>\n",
    "    <td>float64</td>\n",
    "    <td>5000</td>\n",
    "    <td>Principal received to date</td>\n",
    "  </tr>\n",
    "</tbody>\n",
    "</table>"
   ]
  },
  {
   "cell_type": "markdown",
   "metadata": {},
   "source": [
    "Within this group of columns, we need to drop the following columns:\n",
    "\n",
    "- zip_code: redundant with the addr_state column since only the first 3 digits of the 5 digit zip code are visible (which only can be used to identify the state the borrower lives in)\n",
    "- out_prncp: leaks data from the future, (after the loan already started to be paid off)\n",
    "- out_prncp_inv: also leaks data from the future, (after the loan already started to be paid off)\n",
    "- total_pymnt: also leaks data from the future, (after the loan already started to be paid off)\n",
    "- total_pymnt_inv: also leaks data from the future, (after the loan already started to be paid off)\n",
    "- total_rec_prncp: also leaks data from the future, (after the loan already started to be paid off)"
   ]
  },
  {
   "cell_type": "code",
   "execution_count": 5,
   "metadata": {},
   "outputs": [],
   "source": [
    "drop_colomn=[\"zip_code\",\"out_prncp\",\"out_prncp_inv\",\n",
    "             \"total_pymnt\",\"total_pymnt_inv\",\"total_rec_prncp\"]\n",
    "loans_2007=loans_2007.drop(drop_colomn,axis=1)"
   ]
  },
  {
   "cell_type": "markdown",
   "metadata": {},
   "source": [
    "Let's now move on to the last group of features:\n",
    "<table>\n",
    "<thead>\n",
    "  <tr>\n",
    "    <th>name</th>\n",
    "    <th>dtype</th>\n",
    "    <th>first value</th>\n",
    "    <th>description</th>\n",
    "  </tr>\n",
    "</thead>\n",
    "<tbody>\n",
    "  <tr>\n",
    "    <td>total_rec_int</td>\n",
    "    <td>float64</td>\n",
    "    <td>863.16</td>\n",
    "    <td>Interest received to date</td>\n",
    "  </tr>\n",
    "  <tr>\n",
    "    <td>total_rec_late_fee</td>\n",
    "    <td>float64</td>\n",
    "    <td>0</td>\n",
    "    <td>Late fees received to date</td>\n",
    "  </tr>\n",
    "  <tr>\n",
    "    <td>recoveries</td>\n",
    "    <td>float64</td>\n",
    "    <td>0</td>\n",
    "    <td>post charge off gross recovery</td>\n",
    "  </tr>\n",
    "  <tr>\n",
    "    <td>collection_recovery_fee</td>\n",
    "    <td>float64</td>\n",
    "    <td>0</td>\n",
    "    <td>post charge off collection fee</td>\n",
    "  </tr>\n",
    "  <tr>\n",
    "    <td>last_pymnt_d</td>\n",
    "    <td>object</td>\n",
    "    <td>Jan-2015</td>\n",
    "    <td>Last month payment was received</td>\n",
    "  </tr>\n",
    "  <tr>\n",
    "    <td>last_pymnt_amnt</td>\n",
    "    <td>float64</td>\n",
    "    <td>171.62</td>\n",
    "    <td>Last total payment amount received</td>\n",
    "  </tr>\n",
    "  <tr>\n",
    "    <td>last_credit_pull_d</td>\n",
    "    <td>object</td>\n",
    "    <td>Jun-2016</td>\n",
    "    <td>The most recent month LC pulled credit for this loan</td>\n",
    "  </tr>\n",
    "  <tr>\n",
    "    <td>collections_12_mths_ex_med</td>\n",
    "    <td>float64</td>\n",
    "    <td>0</td>\n",
    "    <td>Number of collections in 12 months excluding medical collections</td>\n",
    "  </tr>\n",
    "  <tr>\n",
    "    <td>policy_code</td>\n",
    "    <td>float64</td>\n",
    "    <td>1</td>\n",
    "    <td>publicly available policy_code=1 new products not publicly available policy_code=2</td>\n",
    "  </tr>\n",
    "  <tr>\n",
    "    <td>application_type</td>\n",
    "    <td>object</td>\n",
    "    <td>INDIVIDUAL</td>\n",
    "    <td>Indicates whether the loan is an individual application or a joint application with two co-borrowers</td>\n",
    "  </tr>\n",
    "  <tr>\n",
    "    <td>acc_now_delinq</td>\n",
    "    <td>float64</td>\n",
    "    <td>0</td>\n",
    "    <td>The number of accounts on which the borrower is now delinquent.</td>\n",
    "  </tr>\n",
    "  <tr>\n",
    "    <td>chargeoff_within_12_mths</td>\n",
    "    <td>float64</td>\n",
    "    <td>0</td>\n",
    "    <td>Number of charge-offs within 12 months</td>\n",
    "  </tr>\n",
    "  <tr>\n",
    "    <td>delinq_amnt</td>\n",
    "    <td>float64</td>\n",
    "    <td>0</td>\n",
    "    <td>The past-due amount owed for the accounts on which the borrower is now delinquent.</td>\n",
    "  </tr>\n",
    "  <tr>\n",
    "    <td>pub_rec_bankruptcies</td>\n",
    "    <td>float64</td>\n",
    "    <td>0</td>\n",
    "    <td>Number of public record bankruptcies</td>\n",
    "  </tr>\n",
    "  <tr>\n",
    "    <td>tax_liens</td>\n",
    "    <td>float64</td>\n",
    "    <td>0</td>\n",
    "    <td>Number of tax liens</td>\n",
    "  </tr>\n",
    "  <tr>\n",
    "    <td>issue_d</td>\n",
    "    <td>object</td>\n",
    "    <td>Dec-2011</td>\n",
    "    <td>The month which the loan was funded</td>\n",
    "  </tr>\n",
    "  <tr>\n",
    "    <td>loan_status</td>\n",
    "    <td>object</td>\n",
    "    <td>Charged Off</td>\n",
    "    <td>Current status of the loan</td>\n",
    "  </tr>\n",
    "  <tr>\n",
    "    <td>pymnt_plan</td>\n",
    "    <td>object</td>\n",
    "    <td>n</td>\n",
    "    <td>Indicates if a payment plan has been put in place for the loan</td>\n",
    "  </tr>\n",
    "  <tr>\n",
    "    <td>purpose</td>\n",
    "    <td>object</td>\n",
    "    <td>car</td>\n",
    "    <td>A category provided by the borrower for the loan request.</td>\n",
    "  </tr>\n",
    "</tbody>\n",
    "</table>"
   ]
  },
  {
   "cell_type": "markdown",
   "metadata": {},
   "source": [
    "In the last group of columns, we need to drop the following columns:\n",
    "\n",
    "- total_rec_int: leaks data from the future, (after the loan already started to be paid off),\n",
    "- total_rec_late_fee: also leaks data from the future, (after the loan already started to be paid off),\n",
    "- recoveries: also leaks data from the future, (after the loan already started to be paid off),\n",
    "- collection_recovery_fee: also leaks data from the future, (after the loan already started to be paid off),\n",
    "- last_pymnt_d: also leaks data from the future, (after the loan already started to be paid off),\n",
    "- last_pymnt_amnt: also leaks data from the future, (after the loan already started to be paid off).\n",
    "\n",
    "All of these columns leak data from the future, meaning that they're describing aspects of the loan after it's already been fully funded and started to be paid off by the borrower."
   ]
  },
  {
   "cell_type": "code",
   "execution_count": 6,
   "metadata": {},
   "outputs": [],
   "source": [
    "drop_columns=['total_rec_int','total_rec_late_fee','recoveries',\n",
    "              'collection_recovery_fee','last_pymnt_d','last_pymnt_amnt']\n",
    "loans_2007=loans_2007.drop(drop_columns,axis=1)"
   ]
  },
  {
   "cell_type": "markdown",
   "metadata": {},
   "source": [
    "Just by becoming familiar with the columns in the dataset, we were able to reduce the number of columns from 52 to 32 columns. We now need to decide on a target column that we want to use for modeling.\n",
    "\n",
    "We should use the **loan_status** column, since it's the only column that directly describes if a loan was paid off on time, had delayed payments, or was defaulted on the borrower. Currently, this column contains text values and we need to convert it to a numerical one for training a model. Let's explore the different values in this column and come up with a strategy for converting the values in this column."
   ]
  },
  {
   "cell_type": "code",
   "execution_count": 7,
   "metadata": {},
   "outputs": [
    {
     "data": {
      "text/plain": [
       "Fully Paid                                             33136\n",
       "Charged Off                                             5634\n",
       "Does not meet the credit policy. Status:Fully Paid      1988\n",
       "Current                                                  961\n",
       "Does not meet the credit policy. Status:Charged Off      761\n",
       "Late (31-120 days)                                        24\n",
       "In Grace Period                                           20\n",
       "Late (16-30 days)                                          8\n",
       "Default                                                    3\n",
       "Name: loan_status, dtype: int64"
      ]
     },
     "execution_count": 7,
     "metadata": {},
     "output_type": "execute_result"
    }
   ],
   "source": [
    "loans_2007[\"loan_status\"].value_counts()"
   ]
  },
  {
   "cell_type": "markdown",
   "metadata": {},
   "source": [
    "There are 8 different possible values for the loan_status column. You can read about most of the different loan statuses on the Lending Clube webste. The two values that start with \"Does not meet the credit policy\" aren't explained unfortunately. A quick Google search takes us to explanations from the lending community [here](https://forum.lendacademy.com/?topic=2427.msg20813#msg20813).\n",
    "\n",
    "<table>\n",
    "<thead>\n",
    "  <tr>\n",
    "    <th>Loan Status</th>\n",
    "    <th>dtype</th>\n",
    "    <th>first value</th>\n",
    "  </tr>\n",
    "</thead>\n",
    "<tbody>\n",
    "  <tr>\n",
    "    <td>Fully Paid</td>\n",
    "    <td>33136</td>\n",
    "    <td>Loan has been fully paid off.</td>\n",
    "  </tr>\n",
    "  <tr>\n",
    "    <td>Charged Off</td>\n",
    "    <td>5634</td>\n",
    "    <td>Loan for which there is no longer a reasonable expectation of further payments.</td>\n",
    "  </tr>\n",
    "  <tr>\n",
    "    <td>Does not meet the credit policy. Status:Fully Paid</td>\n",
    "    <td>1988</td>\n",
    "    <td>While the loan was paid off, the loan application today would no longer meet the credit policy and wouldn't be approved on to the marketplace.</td>\n",
    "  </tr>\n",
    "  <tr>\n",
    "    <td>Does not meet the credit policy. Status:Charged Off</td>\n",
    "    <td>761</td>\n",
    "    <td>While the loan was charged off, the loan application today would no longer meet the credit policy and wouldn't be approved on to the marketplace.</td>\n",
    "  </tr>\n",
    "  <tr>\n",
    "    <td>In Grace Period</td>\n",
    "    <td>20</td>\n",
    "    <td>The loan is past due but still in the grace period of 15 days.</td>\n",
    "  </tr>\n",
    "  <tr>\n",
    "    <td>Late (16-30 days)</td>\n",
    "    <td>8</td>\n",
    "    <td>Loan hasn't been paid in 16 to 30 days (late on the current payment).</td>\n",
    "  </tr>\n",
    "  <tr>\n",
    "    <td>Late (31-120 days)</td>\n",
    "    <td>24</td>\n",
    "    <td>Loan hasn't been paid in 31 to 120 days (late on the current payment).</td>\n",
    "  </tr>\n",
    "  <tr>\n",
    "    <td>Current</td>\n",
    "    <td>961</td>\n",
    "    <td>Loan is up to date on current payments.</td>\n",
    "  </tr>\n",
    "  <tr>\n",
    "    <td>Default</td>\n",
    "    <td>3</td>\n",
    "    <td>Loan is defaulted on and no payment has been made for more than 121 days.</td>\n",
    "  </tr>\n",
    "</tbody>\n",
    "</table>"
   ]
  },
  {
   "cell_type": "markdown",
   "metadata": {},
   "source": [
    "From the investor's perspective, we're interested in trying to predict which loans will be paid off on time and which ones won't be. Only the Fully Paid and Charged Off values describe the final outcome of the loan. The other values describe loans that are still ongoing and where the jury is still out on if the borrower will pay back the loan on time or not. While the Default status resembles the Charged Off status, in Lending Club's eyes, loans that are charged off have essentially no chance of being repaid while default ones have a small chance. Since we're interested in being able to predict which of these 2 values a loan will fall under, we can treat the problem as a *binary classification* one. Let's remove all the loans that don't contain either Fully Paid and Charged Off as the loan's status and then transform the Fully Paid values to 1 for the positive case and the Charged Off values to 0 for the negative case."
   ]
  },
  {
   "cell_type": "code",
   "execution_count": 8,
   "metadata": {},
   "outputs": [],
   "source": [
    "#Keep only the rows with loan status Fully Paid and Charged Off\n",
    "loans_2007=loans_2007[(loans_2007[\"loan_status\"] == \"Fully Paid\") | (loans_2007[\"loan_status\"] == \"Charged Off\")]"
   ]
  },
  {
   "cell_type": "code",
   "execution_count": 9,
   "metadata": {},
   "outputs": [],
   "source": [
    "#replace the string values with 0 and 1\n",
    "status_replace = {\n",
    "    \"loan_status\" : {\n",
    "        \"Fully Paid\" : 1,\n",
    "        \"Charged Off\" : 0,\n",
    "    }\n",
    "}\n",
    "\n",
    "loans_2007=loans_2007.replace(status_replace)"
   ]
  },
  {
   "cell_type": "code",
   "execution_count": 10,
   "metadata": {},
   "outputs": [
    {
     "name": "stdout",
     "output_type": "stream",
     "text": [
      "['pymnt_plan', 'initial_list_status', 'collections_12_mths_ex_med', 'policy_code', 'application_type', 'acc_now_delinq', 'chargeoff_within_12_mths', 'delinq_amnt', 'tax_liens']\n"
     ]
    }
   ],
   "source": [
    "#Drop all columns that with only one unique value beside NaN value\n",
    "drop_columns = []\n",
    "\n",
    "for column in loans_2007.columns:\n",
    "    non_null = loans_2007[column].dropna()\n",
    "    unique_non_null = non_null.unique()\n",
    "    num_true_unique = len(unique_non_null)\n",
    "    if num_true_unique == 1:\n",
    "        drop_columns.append(column)\n",
    "\n",
    "filtered_loans_2007=loans_2007.drop(drop_columns, axis=1).copy()\n",
    "print(drop_columns)"
   ]
  },
  {
   "cell_type": "markdown",
   "metadata": {},
   "source": [
    "It looks we were able to remove 9 more columns since they only contained 1 unique value."
   ]
  },
  {
   "cell_type": "markdown",
   "metadata": {},
   "source": [
    "## Preparing the features"
   ]
  },
  {
   "cell_type": "markdown",
   "metadata": {},
   "source": [
    "We removed all of the columns that contained redundant information, weren't useful for modeling, required too much processing to make useful, or leaked information from the future. Now, we'll prepare the data for machine learning by focusing on handling missing values, converting categorical columns to numeric columns, and removing any other extraneous columns we encounter throughout this process."
   ]
  },
  {
   "cell_type": "code",
   "execution_count": 11,
   "metadata": {},
   "outputs": [
    {
     "name": "stdout",
     "output_type": "stream",
     "text": [
      "emp_length              1036\n",
      "title                     11\n",
      "revol_util                50\n",
      "last_credit_pull_d         2\n",
      "pub_rec_bankruptcies     697\n",
      "dtype: int64\n"
     ]
    }
   ],
   "source": [
    "#change to easier name\n",
    "loans = filtered_loans_2007\n",
    "#check out the columns with null values\n",
    "null_counts = loans.isnull().sum()\n",
    "print(null_counts[null_counts > 0])"
   ]
  },
  {
   "cell_type": "markdown",
   "metadata": {},
   "source": [
    "While most of the columns have no missing values, two columns have fifty or less rows with missing values, and two columns, **emp_length** and **pub_rec_bankruptcies**, contain a relatively high amount of missing values.\n",
    "\n",
    "Domain knowledge tells us that employment length is frequently used in assessing how risky a potential borrower is, so we'll keep this column despite its relatively large amount of missing values."
   ]
  },
  {
   "cell_type": "code",
   "execution_count": 12,
   "metadata": {},
   "outputs": [
    {
     "name": "stdout",
     "output_type": "stream",
     "text": [
      "0.0    0.939438\n",
      "1.0    0.042456\n",
      "NaN    0.017978\n",
      "2.0    0.000129\n",
      "Name: pub_rec_bankruptcies, dtype: float64\n"
     ]
    }
   ],
   "source": [
    "#inspect the values of the column pub_rec_bankruptcies\n",
    "print(loans.pub_rec_bankruptcies.value_counts(normalize=True, dropna=False))"
   ]
  },
  {
   "cell_type": "markdown",
   "metadata": {},
   "source": [
    "We see that this column offers very little variability, nearly 94% of values are in the same category. It probably won't have much predictive value. Let's drop it. In addition, we'll remove the remaining rows containing null values."
   ]
  },
  {
   "cell_type": "code",
   "execution_count": 13,
   "metadata": {},
   "outputs": [
    {
     "name": "stdout",
     "output_type": "stream",
     "text": [
      "object     11\n",
      "float64    10\n",
      "int64       1\n",
      "dtype: int64\n"
     ]
    }
   ],
   "source": [
    "#drop the whole column for pub_rec_bankruptcies\n",
    "loans = loans.drop(\"pub_rec_bankruptcies\", axis=1)\n",
    "#drop only the rows with missing values\n",
    "loans = loans.dropna(axis=0)\n",
    "#check counts for each column data type\n",
    "print(loans.dtypes.value_counts())"
   ]
  },
  {
   "cell_type": "markdown",
   "metadata": {},
   "source": [
    "While the numerical columns can be used natively with scikit-learn, the object columns that contain text need to be converted to numerical data types. Let's return a new Dataframe containing just the object columns so we can explore them in more depth."
   ]
  },
  {
   "cell_type": "code",
   "execution_count": 14,
   "metadata": {},
   "outputs": [],
   "source": [
    "object_columns_df = loans.select_dtypes(include=[\"object\"])"
   ]
  },
  {
   "cell_type": "code",
   "execution_count": 15,
   "metadata": {},
   "outputs": [
    {
     "name": "stdout",
     "output_type": "stream",
     "text": [
      "         term int_rate emp_length home_ownership verification_status  \\\n",
      "0   36 months   10.65%  10+ years           RENT            Verified   \n",
      "1   60 months   15.27%   < 1 year           RENT     Source Verified   \n",
      "2   36 months   15.96%  10+ years           RENT        Not Verified   \n",
      "3   36 months   13.49%  10+ years           RENT     Source Verified   \n",
      "5   36 months    7.90%    3 years           RENT     Source Verified   \n",
      "\n",
      "          purpose                                  title addr_state  \\\n",
      "0     credit_card                               Computer         AZ   \n",
      "1             car                                   bike         GA   \n",
      "2  small_business                   real estate business         IL   \n",
      "3           other                               personel         CA   \n",
      "5         wedding  My wedding loan I promise to pay back         AZ   \n",
      "\n",
      "  earliest_cr_line revol_util last_credit_pull_d  \n",
      "0         Jan-1985      83.7%           Jun-2016  \n",
      "1         Apr-1999       9.4%           Sep-2013  \n",
      "2         Nov-2001      98.5%           Jun-2016  \n",
      "3         Feb-1996        21%           Apr-2016  \n",
      "5         Nov-2004      28.3%           Jan-2016  \n"
     ]
    }
   ],
   "source": [
    "print(object_columns_df.head())"
   ]
  },
  {
   "cell_type": "markdown",
   "metadata": {},
   "source": [
    "Some of the columns seem like they represent categorical values, but we should confirm by checking the number of unique values in those columns:\n",
    "\n",
    "- home_ownership: home ownership status, can only be 1 of 4 categorical values according to the data dictionary,\n",
    "- verification_status: indicates if income was verified by Lending Club,\n",
    "- emp_length: number of years the borrower was employed upon time of application,\n",
    "- term: number of payments on the loan, either 36 or 60,\n",
    "- addr_state: borrower's state of residence,\n",
    "- purpose: a category provided by the borrower for the loan request,\n",
    "- title: loan title provided by the borrower,\n",
    "\n",
    "There are also some columns that represent numeric values, that need to be converted:\n",
    "\n",
    "- int_rate: interest rate of the loan in %,\n",
    "- revol_util: revolving line utilization rate or the amount of credit the borrower is using relative to all available credit, read more here."
   ]
  },
  {
   "cell_type": "markdown",
   "metadata": {},
   "source": [
    "Lastly, some of the columns contain date values that would require a good amount of feature engineering for them to be potentially useful:\n",
    "\n",
    "- earliest_cr_line: The month the borrower's earliest reported credit line was opened,\n",
    "- last_credit_pull_d: The most recent month Lending Club pulled credit for this loan.\n",
    "\n",
    "Since these date features require some feature engineering for modeling purposes, let's remove these date columns from the Dataframe"
   ]
  },
  {
   "cell_type": "code",
   "execution_count": 16,
   "metadata": {},
   "outputs": [
    {
     "name": "stdout",
     "output_type": "stream",
     "text": [
      "RENT        18112\n",
      "MORTGAGE    16686\n",
      "OWN          2778\n",
      "OTHER          96\n",
      "NONE            3\n",
      "Name: home_ownership, dtype: int64\n",
      "Not Verified       16281\n",
      "Verified           11856\n",
      "Source Verified     9538\n",
      "Name: verification_status, dtype: int64\n",
      "10+ years    8545\n",
      "< 1 year     4513\n",
      "2 years      4303\n",
      "3 years      4022\n",
      "4 years      3353\n",
      "5 years      3202\n",
      "1 year       3176\n",
      "6 years      2177\n",
      "7 years      1714\n",
      "8 years      1442\n",
      "9 years      1228\n",
      "Name: emp_length, dtype: int64\n",
      " 36 months    28234\n",
      " 60 months     9441\n",
      "Name: term, dtype: int64\n",
      "CA    6776\n",
      "NY    3614\n",
      "FL    2704\n",
      "TX    2613\n",
      "NJ    1776\n",
      "IL    1447\n",
      "PA    1442\n",
      "VA    1347\n",
      "GA    1323\n",
      "MA    1272\n",
      "OH    1149\n",
      "MD    1008\n",
      "AZ     807\n",
      "WA     788\n",
      "CO     748\n",
      "NC     729\n",
      "CT     711\n",
      "MI     678\n",
      "MO     648\n",
      "MN     581\n",
      "NV     466\n",
      "SC     454\n",
      "WI     427\n",
      "OR     422\n",
      "AL     420\n",
      "LA     420\n",
      "KY     311\n",
      "OK     285\n",
      "KS     249\n",
      "UT     249\n",
      "AR     229\n",
      "DC     209\n",
      "RI     194\n",
      "NM     180\n",
      "WV     164\n",
      "HI     162\n",
      "NH     157\n",
      "DE     110\n",
      "MT      77\n",
      "WY      76\n",
      "AK      76\n",
      "SD      60\n",
      "VT      53\n",
      "MS      19\n",
      "TN      17\n",
      "IN       9\n",
      "ID       6\n",
      "IA       5\n",
      "NE       5\n",
      "ME       3\n",
      "Name: addr_state, dtype: int64\n"
     ]
    }
   ],
   "source": [
    "cols = ['home_ownership', 'verification_status', 'emp_length', 'term', 'addr_state']\n",
    "\n",
    "for col in cols:\n",
    "    print(loans[col].value_counts())"
   ]
  },
  {
   "cell_type": "markdown",
   "metadata": {},
   "source": [
    "The **home_ownership**, **verification_status**, **emp_length**, **term**, and **addr_state columns** all contain multiple discrete values. We should clean the **emp_length column** and treat it as a numerical one since the values have ordering (2 years of employment is less than 8 years).\n",
    "\n",
    "First, let's look at the unique value counts for the **purpose** and **title** columns to understand which column we want to keep."
   ]
  },
  {
   "cell_type": "code",
   "execution_count": 17,
   "metadata": {},
   "outputs": [
    {
     "name": "stdout",
     "output_type": "stream",
     "text": [
      "Debt Consolidation           2068\n",
      "Debt Consolidation Loan      1599\n",
      "Personal Loan                 624\n",
      "Consolidation                 488\n",
      "debt consolidation            466\n",
      "                             ... \n",
      "DEBT PAYOFFS                    1\n",
      "My First LendingClub Loan       1\n",
      "Clear my credit card debt       1\n",
      "HOME IMPROVEMENT PROJECT        1\n",
      "new kitchen                     1\n",
      "Name: title, Length: 18881, dtype: int64\n",
      "debt_consolidation    17751\n",
      "credit_card            4911\n",
      "other                  3711\n",
      "home_improvement       2808\n",
      "major_purchase         2083\n",
      "small_business         1719\n",
      "car                    1459\n",
      "wedding                 916\n",
      "medical                 655\n",
      "moving                  552\n",
      "house                   356\n",
      "vacation                348\n",
      "educational             312\n",
      "renewable_energy         94\n",
      "Name: purpose, dtype: int64\n"
     ]
    }
   ],
   "source": [
    "for col in [\"title\", \"purpose\"]:\n",
    "    print(loans[col].value_counts())"
   ]
  },
  {
   "cell_type": "markdown",
   "metadata": {},
   "source": [
    "The **home_ownership**, **verification_status**, **emp_length**, and **term** columns each contain a few discrete categorical values. We should encode these columns as dummy variables and keep them.\n",
    "\n",
    "It seems like the **purpose** and **title** columns do contain overlapping information but we'll keep the **purpose** column since it contains a few discrete values. In addition, the title column has data quality issues since many of the values are repeated with slight modifications (e.g. Debt Consolidation and Debt Consolidation Loan and debt consolidation)."
   ]
  },
  {
   "cell_type": "code",
   "execution_count": 18,
   "metadata": {},
   "outputs": [],
   "source": [
    "#Remove the last_credit_pull_d, addr_state, title, and earliest_cr_line columns from loans\n",
    "cols=['last_credit_pull_d', 'addr_state', 'title','earliest_cr_line']\n",
    "loans = loans.drop(cols, axis=1)\n",
    "#remove % from int_rate, revol_util column and change the dtype to float\n",
    "loans[\"int_rate\"] = loans['int_rate'].str.rstrip(\"%\").astype('float')\n",
    "loans[\"revol_util\"] = loans['revol_util'].str.rstrip(\"%\").astype('float')"
   ]
  },
  {
   "cell_type": "code",
   "execution_count": 19,
   "metadata": {},
   "outputs": [],
   "source": [
    "#Clean emp_length columns\n",
    "mapping_dict = {\n",
    "    \"emp_length\": {\n",
    "        \"10+ years\": 10,\n",
    "        \"9 years\": 9,\n",
    "        \"8 years\": 8,\n",
    "        \"7 years\": 7,\n",
    "        \"6 years\": 6,\n",
    "        \"5 years\": 5,\n",
    "        \"4 years\": 4,\n",
    "        \"3 years\": 3,\n",
    "        \"2 years\": 2,\n",
    "        \"1 year\": 1,\n",
    "        \"< 1 year\": 0,\n",
    "        \"n/a\": 0\n",
    "    }\n",
    "}\n",
    "loans = loans.replace(mapping_dict)"
   ]
  },
  {
   "cell_type": "markdown",
   "metadata": {},
   "source": [
    "Let's now encode the **home_ownership**, **verification_status**, **purpose**, and **term** columns as dummy variables so we can use them in our model. We first need to use the Pandas get_dummies method to return a new Dataframe containing a new column for each dummy variable:"
   ]
  },
  {
   "cell_type": "code",
   "execution_count": 20,
   "metadata": {},
   "outputs": [],
   "source": [
    "cat_columns = [\"home_ownership\", \"verification_status\", \"purpose\", \"term\"]\n",
    "dummy_df = pd.get_dummies(loans[cat_columns])\n",
    "loans = pd.concat([loans, dummy_df], axis=1)\n",
    "loans = loans.drop(cat_columns, axis=1)"
   ]
  },
  {
   "cell_type": "markdown",
   "metadata": {},
   "source": [
    "## Make Predictions"
   ]
  },
  {
   "cell_type": "markdown",
   "metadata": {},
   "source": [
    "As we prepared the data, we removed columns that had data leakage issues, contained redundant information, or required additional processing to turn into useful features. We cleaned features that had formatting issues, and converted categorical columns to dummy variables.\n",
    "\n",
    "We noticed that there's a class imbalance in our target column, loan_status. There are about 6 times as many loans that were paid off on time (positive case, label of 1) than those that weren't (negative case, label of 0). Imbalances can cause issues with many machine learning algorithms, where they appear to have high accuracy, but actually aren't learning from the training data. "
   ]
  },
  {
   "cell_type": "code",
   "execution_count": 21,
   "metadata": {},
   "outputs": [
    {
     "name": "stdout",
     "output_type": "stream",
     "text": [
      "<class 'pandas.core.frame.DataFrame'>\n",
      "RangeIndex: 37675 entries, 0 to 37674\n",
      "Data columns (total 38 columns):\n",
      " #   Column                               Non-Null Count  Dtype  \n",
      "---  ------                               --------------  -----  \n",
      " 0   loan_amnt                            37675 non-null  float64\n",
      " 1   int_rate                             37675 non-null  float64\n",
      " 2   installment                          37675 non-null  float64\n",
      " 3   emp_length                           37675 non-null  int64  \n",
      " 4   annual_inc                           37675 non-null  float64\n",
      " 5   loan_status                          37675 non-null  int64  \n",
      " 6   dti                                  37675 non-null  float64\n",
      " 7   delinq_2yrs                          37675 non-null  float64\n",
      " 8   inq_last_6mths                       37675 non-null  float64\n",
      " 9   open_acc                             37675 non-null  float64\n",
      " 10  pub_rec                              37675 non-null  float64\n",
      " 11  revol_bal                            37675 non-null  float64\n",
      " 12  revol_util                           37675 non-null  float64\n",
      " 13  total_acc                            37675 non-null  float64\n",
      " 14  home_ownership_MORTGAGE              37675 non-null  int64  \n",
      " 15  home_ownership_NONE                  37675 non-null  int64  \n",
      " 16  home_ownership_OTHER                 37675 non-null  int64  \n",
      " 17  home_ownership_OWN                   37675 non-null  int64  \n",
      " 18  home_ownership_RENT                  37675 non-null  int64  \n",
      " 19  verification_status_Not Verified     37675 non-null  int64  \n",
      " 20  verification_status_Source Verified  37675 non-null  int64  \n",
      " 21  verification_status_Verified         37675 non-null  int64  \n",
      " 22  purpose_car                          37675 non-null  int64  \n",
      " 23  purpose_credit_card                  37675 non-null  int64  \n",
      " 24  purpose_debt_consolidation           37675 non-null  int64  \n",
      " 25  purpose_educational                  37675 non-null  int64  \n",
      " 26  purpose_home_improvement             37675 non-null  int64  \n",
      " 27  purpose_house                        37675 non-null  int64  \n",
      " 28  purpose_major_purchase               37675 non-null  int64  \n",
      " 29  purpose_medical                      37675 non-null  int64  \n",
      " 30  purpose_moving                       37675 non-null  int64  \n",
      " 31  purpose_other                        37675 non-null  int64  \n",
      " 32  purpose_renewable_energy             37675 non-null  int64  \n",
      " 33  purpose_small_business               37675 non-null  int64  \n",
      " 34  purpose_vacation                     37675 non-null  int64  \n",
      " 35  purpose_wedding                      37675 non-null  int64  \n",
      " 36  term_ 36 months                      37675 non-null  int64  \n",
      " 37  term_ 60 months                      37675 non-null  int64  \n",
      "dtypes: float64(12), int64(26)\n",
      "memory usage: 10.9 MB\n"
     ]
    }
   ],
   "source": [
    "loans = pd.read_csv(\"cleaned_loans_2007.csv\")\n",
    "loans.info()"
   ]
  },
  {
   "cell_type": "markdown",
   "metadata": {},
   "source": [
    "Before we dive into machine learning model, we need to think about how we deal with the error.\n",
    "<table>\n",
    "<thead>\n",
    "  <tr>\n",
    "    <th>Loan Actual Status</th>\n",
    "    <th>Prediction</th>\n",
    "    <th>Error Type</th>\n",
    "  </tr>\n",
    "</thead>\n",
    "<tbody>\n",
    "  <tr>\n",
    "    <td>0</td>\n",
    "    <td>1</td>\n",
    "    <td>False Positive</td>\n",
    "  </tr>\n",
    "  <tr>\n",
    "    <td>1</td>\n",
    "    <td>1</td>\n",
    "    <td>True Positive</td>\n",
    "  </tr>\n",
    "  <tr>\n",
    "    <td>0</td>\n",
    "    <td>0</td>\n",
    "    <td>True Negative</td>\n",
    "  </tr>\n",
    "  <tr>\n",
    "    <td>1</td>\n",
    "    <td>0</td>\n",
    "    <td>False Negative</td>\n",
    "  </tr>\n",
    "</tbody>\n",
    "</table>\n",
    "\n",
    "In this case, we're primarily concerned with false positives and false negatives. Both of these are different types of misclassifications. With a false positive, we predict that a loan will be paid off on time, but it actually isn't. This costs us money, since we fund loans that lose us money. With a false negative, we predict that a loan won't be paid off on time, but it actually would be paid off on time. This loses us potential money, since we didn't fund a loan that actually would have been paid off. Since we're viewing this problem from the standpoint of a conservative investor, we need to treat false positives differently than false negatives. A conservative investor would want to minimize risk, and avoid false positives as much as possible. They'd be more okay with missing out on opportunities (false negatives) than they would be with funding a risky loan (false positives)."
   ]
  },
  {
   "cell_type": "markdown",
   "metadata": {},
   "source": [
    "From above, it seems that we should optimize for:\n",
    "- high recall (true positive rate)\n",
    "- low fall-out (false positive rate)"
   ]
  },
  {
   "cell_type": "markdown",
   "metadata": {},
   "source": [
    "Since there are huge imbalance in the data, let's start with prediction that says all 1s."
   ]
  },
  {
   "cell_type": "code",
   "execution_count": 22,
   "metadata": {},
   "outputs": [],
   "source": [
    "import numpy as np\n",
    "predictions = pd.Series(np.ones(loans.shape[0]))"
   ]
  },
  {
   "cell_type": "markdown",
   "metadata": {},
   "source": [
    "False positive rate is the number of false positives divided by the number of false positives plus the number of true negatives. This divides all the cases where we thought a loan would be paid off but it wasn't by all the loans that weren't paid off:\n",
    "\n",
    "- fpr = fp / (fp + tn)\n",
    "\n",
    "True positive rate is the number of true positives divided by the number of true positives plus the number of false negatives. This divides all the cases where we thought a loan would be paid off and it was by all the loans that were paid off:\n",
    "\n",
    "- tpr = tp / (tp + fn)"
   ]
  },
  {
   "cell_type": "markdown",
   "metadata": {},
   "source": [
    "Simple english ways to think of each term are:\n",
    "\n",
    "False Positive Rate: \"the percentage of the loans that shouldn't be funded that I would fund\".\n",
    "\n",
    "True Positive Rate: \"the percentage of loans that should be funded that I would fund\".\n",
    "\n",
    "Generally, if we want to reduce false positive rate, true positive rate will also go down. This is because if we want to reduce the risk of false positives, we wouldn't think about funding riskier loans in the first place."
   ]
  },
  {
   "cell_type": "code",
   "execution_count": 23,
   "metadata": {},
   "outputs": [],
   "source": [
    "# False positives.\n",
    "fp_filter = (predictions == 1) & (loans[\"loan_status\"] == 0)\n",
    "fp = len(predictions[fp_filter])\n",
    "\n",
    "# True positives.\n",
    "tp_filter = (predictions == 1) & (loans[\"loan_status\"] == 1)\n",
    "tp = len(predictions[tp_filter])\n",
    "\n",
    "# False negatives.\n",
    "fn_filter = (predictions == 0) & (loans[\"loan_status\"] == 1)\n",
    "fn = len(predictions[fn_filter])\n",
    "\n",
    "# True negatives\n",
    "tn_filter = (predictions == 0) & (loans[\"loan_status\"] == 0)\n",
    "tn = len(predictions[tn_filter])\n",
    "\n",
    "fpr = fp/(fp+tn)\n",
    "tpr = tp/(tp+fn)"
   ]
  },
  {
   "cell_type": "code",
   "execution_count": 24,
   "metadata": {},
   "outputs": [
    {
     "name": "stdout",
     "output_type": "stream",
     "text": [
      "1.0\n",
      "1.0\n"
     ]
    }
   ],
   "source": [
    "print(fpr)\n",
    "print(tpr)"
   ]
  },
  {
   "cell_type": "markdown",
   "metadata": {},
   "source": [
    "This is because we predicted 1 for each row. This means that we correctly identified all of the good loans (true positive rate), but we also incorrectly identified all of the bad loans (false positive rate). Now that we've setup error metrics, we can move on to making predictions using a machine learning algorithm."
   ]
  },
  {
   "cell_type": "markdown",
   "metadata": {},
   "source": [
    "First, let's try to make machine learing model with simple Logistic regression model"
   ]
  },
  {
   "cell_type": "code",
   "execution_count": 25,
   "metadata": {},
   "outputs": [],
   "source": [
    "from sklearn.linear_model import LogisticRegression\n",
    "lr = LogisticRegression(max_iter=200)\n",
    "cols = loans.columns\n",
    "train_cols = cols.drop(\"loan_status\")\n",
    "features = loans[train_cols]\n",
    "target = loans[\"loan_status\"]\n",
    "lr.fit(features, target)\n",
    "predictions = lr.predict(features)"
   ]
  },
  {
   "cell_type": "markdown",
   "metadata": {},
   "source": [
    "While we generated predictions above, those predictions were overfit. They were overfit because we generated predictions using the same data that we trained our model on. When we use this to evaluate error, we get an unrealistically high depiction of how accurate the algorithm is, because it already \"knows\" the correct answers.\n",
    "In order to get a realistic depiction of the accuracy of the model, let's perform k-fold cross validation."
   ]
  },
  {
   "cell_type": "code",
   "execution_count": 26,
   "metadata": {},
   "outputs": [
    {
     "name": "stderr",
     "output_type": "stream",
     "text": [
      "C:\\Users\\parks\\anaconda3\\lib\\site-packages\\sklearn\\linear_model\\_logistic.py:762: ConvergenceWarning: lbfgs failed to converge (status=1):\n",
      "STOP: TOTAL NO. of ITERATIONS REACHED LIMIT.\n",
      "\n",
      "Increase the number of iterations (max_iter) or scale the data as shown in:\n",
      "    https://scikit-learn.org/stable/modules/preprocessing.html\n",
      "Please also refer to the documentation for alternative solver options:\n",
      "    https://scikit-learn.org/stable/modules/linear_model.html#logistic-regression\n",
      "  n_iter_i = _check_optimize_result(\n"
     ]
    },
    {
     "name": "stdout",
     "output_type": "stream",
     "text": [
      "0.9986371802019451\n",
      "0.9959176099461867\n"
     ]
    }
   ],
   "source": [
    "from sklearn.model_selection import cross_val_predict\n",
    "lr = LogisticRegression(max_iter=200)\n",
    "predictions = cross_val_predict(lr, features, target, cv=3)\n",
    "predictions = pd.Series(predictions)\n",
    "# False positives.\n",
    "fp_filter = (predictions == 1) & (loans[\"loan_status\"] == 0)\n",
    "fp = len(predictions[fp_filter])\n",
    "\n",
    "# True positives.\n",
    "tp_filter = (predictions == 1) & (loans[\"loan_status\"] == 1)\n",
    "tp = len(predictions[tp_filter])\n",
    "\n",
    "# False negatives.\n",
    "fn_filter = (predictions == 0) & (loans[\"loan_status\"] == 1)\n",
    "fn = len(predictions[fn_filter])\n",
    "\n",
    "# True negatives\n",
    "tn_filter = (predictions == 0) & (loans[\"loan_status\"] == 0)\n",
    "tn = len(predictions[tn_filter])\n",
    "# Rates\n",
    "tpr = tp  / (tp + fn)\n",
    "fpr = fp  / (fp + tn)\n",
    "print(tpr)\n",
    "print(fpr)"
   ]
  },
  {
   "cell_type": "markdown",
   "metadata": {},
   "source": [
    "As you can see from the above, our fpr and tpr are around what we'd expect if the model was predicting all ones.\n",
    "Unfortunately, even though we're not using accuracy as an error metric, the classifier is, and it isn't accounting for the imbalance in the classes. There are a few ways to get a classifier to correct for imbalanced classes. The two main ways are:\n",
    "\n",
    "- Use oversampling and undersampling to ensure that the classifier gets input that has a balanced number of each class.\n",
    "- Tell the classifier to penalize misclassifications of the less prevalent class more than the other class."
   ]
  },
  {
   "cell_type": "markdown",
   "metadata": {},
   "source": [
    "We will use second method. We can do this by setting the class_weight parameter to balanced when creating the LogisticRegression instance. This tells scikit-learn to penalize the misclassification of the minority class during the training process. The penalty means that the logistic regression classifier pays more attention to correctly classifying rows where loan_status is 0. This lowers accuracy when loan_status is 1, but raises accuracy when loan_status is 0."
   ]
  },
  {
   "cell_type": "code",
   "execution_count": 30,
   "metadata": {},
   "outputs": [
    {
     "name": "stdout",
     "output_type": "stream",
     "text": [
      "0.5418137892585021\n",
      "0.31712748190758955\n"
     ]
    }
   ],
   "source": [
    "from sklearn.linear_model import LogisticRegression\n",
    "from sklearn.model_selection import cross_val_predict\n",
    "lr = LogisticRegression(max_iter=200,class_weight=\"balanced\")\n",
    "predictions = cross_val_predict(lr, features, target, cv=3)\n",
    "predictions = pd.Series(predictions)\n",
    "\n",
    "# False positives.\n",
    "fp_filter = (predictions == 1) & (loans[\"loan_status\"] == 0)\n",
    "fp = len(predictions[fp_filter])\n",
    "\n",
    "# True positives.\n",
    "tp_filter = (predictions == 1) & (loans[\"loan_status\"] == 1)\n",
    "tp = len(predictions[tp_filter])\n",
    "\n",
    "# False negatives.\n",
    "fn_filter = (predictions == 0) & (loans[\"loan_status\"] == 1)\n",
    "fn = len(predictions[fn_filter])\n",
    "\n",
    "# True negatives\n",
    "tn_filter = (predictions == 0) & (loans[\"loan_status\"] == 0)\n",
    "tn = len(predictions[tn_filter])\n",
    "\n",
    "# Rates\n",
    "tpr = tp / (tp + fn)\n",
    "fpr = fp / (fp + tn)\n",
    "\n",
    "print(tpr)\n",
    "print(fpr)"
   ]
  },
  {
   "cell_type": "markdown",
   "metadata": {},
   "source": [
    "While setting class_weight to balanced will automatically set a penalty based on the number of 1s and 0s in the column, we can also set a manual penalty. From a conservative investor's standpoint, it's reassuring that the false positive rate is lower because it means that we'll be able to do a better job at avoiding bad loans than if we funded everything."
   ]
  },
  {
   "cell_type": "code",
   "execution_count": 28,
   "metadata": {},
   "outputs": [
    {
     "name": "stdout",
     "output_type": "stream",
     "text": [
      "0.18329926283838197\n",
      "0.07849322694377435\n"
     ]
    }
   ],
   "source": [
    "penalty = {\n",
    "    0: 10,\n",
    "    1: 1\n",
    "}\n",
    "\n",
    "lr = LogisticRegression(max_iter=200,class_weight=penalty)\n",
    "predictions = cross_val_predict(lr, features, target, cv=3)\n",
    "predictions = pd.Series(predictions)\n",
    "\n",
    "# False positives.\n",
    "fp_filter = (predictions == 1) & (loans[\"loan_status\"] == 0)\n",
    "fp = len(predictions[fp_filter])\n",
    "\n",
    "# True positives.\n",
    "tp_filter = (predictions == 1) & (loans[\"loan_status\"] == 1)\n",
    "tp = len(predictions[tp_filter])\n",
    "\n",
    "# False negatives.\n",
    "fn_filter = (predictions == 0) & (loans[\"loan_status\"] == 1)\n",
    "fn = len(predictions[fn_filter])\n",
    "\n",
    "# True negatives\n",
    "tn_filter = (predictions == 0) & (loans[\"loan_status\"] == 0)\n",
    "tn = len(predictions[tn_filter])\n",
    "\n",
    "# Rates\n",
    "tpr = tp / (tp + fn)\n",
    "fpr = fp / (fp + tn)\n",
    "\n",
    "print(tpr)\n",
    "print(fpr)"
   ]
  },
  {
   "cell_type": "markdown",
   "metadata": {},
   "source": [
    "It looks like assigning manual penalties lowered the false positive rate to 8%, and thus lowered our risk. Note that this comes at the expense of true positive rate. While we have fewer false positives, we're also missing opportunities to fund more loans and potentially make more money. Given that we're approaching this as a conservative investor, this strategy makes sense, but it's worth keeping in mind the tradeoffs.\n",
    "\n",
    "While we could tweak the penalties further, it's best to move to trying a different model right now, for larger potential false positive rate gains. We can always loop back and iterate on the penalties more later.\n",
    "\n",
    "Let's try a more complex algorithm, random forest. We learned about random forests in a previous mission, and constructed our own model. Random forests are able to work with nonlinear data, and learn complex conditionals. Logistic regressions are only able to work with linear data. Training a random forest algorithm may enable us to get more accuracy due to columns that correlate nonlinearly with loan_status."
   ]
  },
  {
   "cell_type": "code",
   "execution_count": 31,
   "metadata": {},
   "outputs": [
    {
     "name": "stdout",
     "output_type": "stream",
     "text": [
      "0.9974601994672614\n",
      "0.989979588049731\n"
     ]
    }
   ],
   "source": [
    "from sklearn.ensemble import RandomForestClassifier\n",
    "\n",
    "rf = RandomForestClassifier(class_weight=\"balanced\", random_state=1)\n",
    "predictions = cross_val_predict(rf, features, target, cv=3)\n",
    "predictions = pd.Series(predictions)\n",
    "\n",
    "# False positives.\n",
    "fp_filter = (predictions == 1) & (loans[\"loan_status\"] == 0)\n",
    "fp = len(predictions[fp_filter])\n",
    "\n",
    "# True positives.`\n",
    "tp_filter = (predictions == 1) & (loans[\"loan_status\"] == 1)\n",
    "tp = len(predictions[tp_filter])\n",
    "\n",
    "# False negatives.\n",
    "fn_filter = (predictions == 0) & (loans[\"loan_status\"] == 1)\n",
    "fn = len(predictions[fn_filter])\n",
    "\n",
    "# True negatives\n",
    "tn_filter = (predictions == 0) & (loans[\"loan_status\"] == 0)\n",
    "tn = len(predictions[tn_filter])\n",
    "\n",
    "# Rates\n",
    "tpr = tp / (tp + fn)\n",
    "fpr = fp / (fp + tn)\n",
    "\n",
    "print(tpr)\n",
    "print(fpr)"
   ]
  },
  {
   "cell_type": "markdown",
   "metadata": {},
   "source": [
    "## Conclusion\n",
    "\n",
    "Unfortunately, using a random forest classifier didn't improve our false positive rate. The model is likely weighting too heavily on the 1 class, and still mostly predicting 1s. We could fix this by applying a harsher penalty for misclassifications of 0s.\n",
    "\n",
    "Ultimately, our best model had a false positive rate of nearly 8%, and a true positive rate of nearly 18%. For a conservative investor, this means that they make money as long as the interest rate is high enough to offset the losses from 8% of borrowers defaulting, and that the pool of 18% of borrowers is large enough to make enough interest money to offset the losses.\n",
    "\n",
    "Although we're excluding more loans than a random strategy would. Given this, there's still quite a bit of room to improve:\n",
    "\n",
    "- We can tweak the penalties further.\n",
    "- We can try models other than a random forest and logistic regression.\n",
    "- We can use some of the columns we discarded to generate better features.\n",
    "- We can ensemble multiple models to get more accurate predictions.\n",
    "- We can tune the parameters of the algorithm to achieve higher performance."
   ]
  }
 ],
 "metadata": {
  "kernelspec": {
   "display_name": "Python 3",
   "language": "python",
   "name": "python3"
  },
  "language_info": {
   "codemirror_mode": {
    "name": "ipython",
    "version": 3
   },
   "file_extension": ".py",
   "mimetype": "text/x-python",
   "name": "python",
   "nbconvert_exporter": "python",
   "pygments_lexer": "ipython3",
   "version": "3.8.5"
  }
 },
 "nbformat": 4,
 "nbformat_minor": 4
}
